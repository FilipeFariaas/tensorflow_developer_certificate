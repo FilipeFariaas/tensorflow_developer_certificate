{
  "cells": [
    {
      "cell_type": "markdown",
      "metadata": {
        "id": "OnOFXewiA2Ub"
      },
      "source": [
        "# NumPy Practice\n",
        "\n",
        "This notebook offers a set of exercises for different tasks with NumPy.\n",
        "\n",
        "It should be noted there may be more than one different way to answer a question or complete an exercise.\n",
        "\n",
        "Exercises are based off (and directly taken from) the quick introduction to NumPy notebook.\n",
        "\n",
        "Different tasks will be detailed by comments or text.\n",
        "\n",
        "For further reference and resources, it's advised to check out the [NumPy documentation](https://numpy.org/devdocs/user/index.html).\n",
        "\n",
        "And if you get stuck, try searching for a question in the following format: \"how to do XYZ with numpy\", where XYZ is the function you want to leverage from NumPy."
      ]
    },
    {
      "cell_type": "code",
      "execution_count": 1,
      "metadata": {
        "id": "xWO_pKeOA2Us"
      },
      "outputs": [],
      "source": [
        "# Import NumPy as its abbreviation 'np'\n",
        "import numpy as np"
      ]
    },
    {
      "cell_type": "code",
      "execution_count": 2,
      "metadata": {
        "colab": {
          "base_uri": "https://localhost:8080/"
        },
        "id": "Qu1oPoK6A2Uu",
        "outputId": "e7685c58-b463-440c-9afd-1cedd85f2d04"
      },
      "outputs": [
        {
          "output_type": "execute_result",
          "data": {
            "text/plain": [
              "(1, 2, 3)"
            ]
          },
          "metadata": {},
          "execution_count": 2
        }
      ],
      "source": [
        "# Create a 1-dimensional NumPy array using np.array()\n",
        "array_01_dim = np.array([1, 2, 3])\n",
        "\n",
        "# Create a 2-dimensional NumPy array using np.array()\n",
        "array_02_dim = np.array([[1, 2, 3],\n",
        "                         [4, 5, 6]])\n",
        "\n",
        "# Create a 3-dimensional Numpy array using np.array()\n",
        "array_03_dim = np.array([[[1, 2, 3,],\n",
        "                          [4, 5, 6]],\n",
        "                         [[7, 8, 9],\n",
        "                          [10, 11, 12]],\n",
        "                         [[13, 14, 15],\n",
        "                          [16, 17, 18]]])\n",
        "\n",
        "array_01_dim.ndim, array_02_dim.ndim, array_03_dim.ndim"
      ]
    },
    {
      "cell_type": "markdown",
      "metadata": {
        "id": "XJDORUQ8A2Uv"
      },
      "source": [
        "Now we've you've created 3 different arrays, let's find details about them.\n",
        "\n",
        "Find the shape, number of dimensions, data type, size and type of each array."
      ]
    },
    {
      "cell_type": "code",
      "execution_count": 3,
      "metadata": {
        "colab": {
          "base_uri": "https://localhost:8080/"
        },
        "id": "XvM9s5oqA2Uv",
        "outputId": "47b913b9-f430-4f25-fef3-36c6d12b19f5"
      },
      "outputs": [
        {
          "output_type": "stream",
          "name": "stdout",
          "text": [
            "Dimensions:  1 \n",
            "Shape:  (3,) \n",
            "Dyype:  int64 \n",
            "Size:  3 \n",
            "Type:  <class 'numpy.ndarray'>\n"
          ]
        }
      ],
      "source": [
        "# Attributes of 1-dimensional array (shape,\n",
        "# number of dimensions, data type, size and type)\n",
        "def get_array_info(array):\n",
        "  print(\"Dimensions: \", array.ndim,\n",
        "        \"\\nShape: \", array.shape,\n",
        "        \"\\nDyype: \", array.dtype,\n",
        "        \"\\nSize: \", array.size,\n",
        "        \"\\nType: \", type(array))\n",
        "\n",
        "get_array_info(array_01_dim)"
      ]
    },
    {
      "cell_type": "code",
      "execution_count": 4,
      "metadata": {
        "colab": {
          "base_uri": "https://localhost:8080/"
        },
        "id": "gZ-_DU7OA2Uw",
        "outputId": "cc4d9985-bb03-4de3-9f67-abb936f2c0f8"
      },
      "outputs": [
        {
          "output_type": "stream",
          "name": "stdout",
          "text": [
            "Dimensions:  2 \n",
            "Shape:  (2, 3) \n",
            "Dyype:  int64 \n",
            "Size:  6 \n",
            "Type:  <class 'numpy.ndarray'>\n"
          ]
        }
      ],
      "source": [
        "# Attributes of 2-dimensional array\n",
        "get_array_info(array_02_dim)"
      ]
    },
    {
      "cell_type": "code",
      "execution_count": 5,
      "metadata": {
        "colab": {
          "base_uri": "https://localhost:8080/"
        },
        "id": "uiEYdMjhA2Ux",
        "outputId": "16b7a429-0fcc-4aa2-fc9a-72fa8561639f"
      },
      "outputs": [
        {
          "output_type": "stream",
          "name": "stdout",
          "text": [
            "Dimensions:  3 \n",
            "Shape:  (3, 2, 3) \n",
            "Dyype:  int64 \n",
            "Size:  18 \n",
            "Type:  <class 'numpy.ndarray'>\n"
          ]
        }
      ],
      "source": [
        "# Attributes of 3-dimensional array\n",
        "get_array_info(array_03_dim)"
      ]
    },
    {
      "cell_type": "code",
      "execution_count": 6,
      "metadata": {
        "colab": {
          "base_uri": "https://localhost:8080/",
          "height": 112
        },
        "id": "QyBhjw2CA2Ux",
        "outputId": "2248e1b4-13c9-4b8f-85fd-172e5bb79537"
      },
      "outputs": [
        {
          "output_type": "execute_result",
          "data": {
            "text/plain": [
              "   0  1  2\n",
              "0  1  2  3\n",
              "1  4  5  6"
            ],
            "text/html": [
              "\n",
              "  <div id=\"df-c4786ee5-daeb-4948-bc16-7bbf35213382\">\n",
              "    <div class=\"colab-df-container\">\n",
              "      <div>\n",
              "<style scoped>\n",
              "    .dataframe tbody tr th:only-of-type {\n",
              "        vertical-align: middle;\n",
              "    }\n",
              "\n",
              "    .dataframe tbody tr th {\n",
              "        vertical-align: top;\n",
              "    }\n",
              "\n",
              "    .dataframe thead th {\n",
              "        text-align: right;\n",
              "    }\n",
              "</style>\n",
              "<table border=\"1\" class=\"dataframe\">\n",
              "  <thead>\n",
              "    <tr style=\"text-align: right;\">\n",
              "      <th></th>\n",
              "      <th>0</th>\n",
              "      <th>1</th>\n",
              "      <th>2</th>\n",
              "    </tr>\n",
              "  </thead>\n",
              "  <tbody>\n",
              "    <tr>\n",
              "      <th>0</th>\n",
              "      <td>1</td>\n",
              "      <td>2</td>\n",
              "      <td>3</td>\n",
              "    </tr>\n",
              "    <tr>\n",
              "      <th>1</th>\n",
              "      <td>4</td>\n",
              "      <td>5</td>\n",
              "      <td>6</td>\n",
              "    </tr>\n",
              "  </tbody>\n",
              "</table>\n",
              "</div>\n",
              "      <button class=\"colab-df-convert\" onclick=\"convertToInteractive('df-c4786ee5-daeb-4948-bc16-7bbf35213382')\"\n",
              "              title=\"Convert this dataframe to an interactive table.\"\n",
              "              style=\"display:none;\">\n",
              "        \n",
              "  <svg xmlns=\"http://www.w3.org/2000/svg\" height=\"24px\"viewBox=\"0 0 24 24\"\n",
              "       width=\"24px\">\n",
              "    <path d=\"M0 0h24v24H0V0z\" fill=\"none\"/>\n",
              "    <path d=\"M18.56 5.44l.94 2.06.94-2.06 2.06-.94-2.06-.94-.94-2.06-.94 2.06-2.06.94zm-11 1L8.5 8.5l.94-2.06 2.06-.94-2.06-.94L8.5 2.5l-.94 2.06-2.06.94zm10 10l.94 2.06.94-2.06 2.06-.94-2.06-.94-.94-2.06-.94 2.06-2.06.94z\"/><path d=\"M17.41 7.96l-1.37-1.37c-.4-.4-.92-.59-1.43-.59-.52 0-1.04.2-1.43.59L10.3 9.45l-7.72 7.72c-.78.78-.78 2.05 0 2.83L4 21.41c.39.39.9.59 1.41.59.51 0 1.02-.2 1.41-.59l7.78-7.78 2.81-2.81c.8-.78.8-2.07 0-2.86zM5.41 20L4 18.59l7.72-7.72 1.47 1.35L5.41 20z\"/>\n",
              "  </svg>\n",
              "      </button>\n",
              "      \n",
              "  <style>\n",
              "    .colab-df-container {\n",
              "      display:flex;\n",
              "      flex-wrap:wrap;\n",
              "      gap: 12px;\n",
              "    }\n",
              "\n",
              "    .colab-df-convert {\n",
              "      background-color: #E8F0FE;\n",
              "      border: none;\n",
              "      border-radius: 50%;\n",
              "      cursor: pointer;\n",
              "      display: none;\n",
              "      fill: #1967D2;\n",
              "      height: 32px;\n",
              "      padding: 0 0 0 0;\n",
              "      width: 32px;\n",
              "    }\n",
              "\n",
              "    .colab-df-convert:hover {\n",
              "      background-color: #E2EBFA;\n",
              "      box-shadow: 0px 1px 2px rgba(60, 64, 67, 0.3), 0px 1px 3px 1px rgba(60, 64, 67, 0.15);\n",
              "      fill: #174EA6;\n",
              "    }\n",
              "\n",
              "    [theme=dark] .colab-df-convert {\n",
              "      background-color: #3B4455;\n",
              "      fill: #D2E3FC;\n",
              "    }\n",
              "\n",
              "    [theme=dark] .colab-df-convert:hover {\n",
              "      background-color: #434B5C;\n",
              "      box-shadow: 0px 1px 3px 1px rgba(0, 0, 0, 0.15);\n",
              "      filter: drop-shadow(0px 1px 2px rgba(0, 0, 0, 0.3));\n",
              "      fill: #FFFFFF;\n",
              "    }\n",
              "  </style>\n",
              "\n",
              "      <script>\n",
              "        const buttonEl =\n",
              "          document.querySelector('#df-c4786ee5-daeb-4948-bc16-7bbf35213382 button.colab-df-convert');\n",
              "        buttonEl.style.display =\n",
              "          google.colab.kernel.accessAllowed ? 'block' : 'none';\n",
              "\n",
              "        async function convertToInteractive(key) {\n",
              "          const element = document.querySelector('#df-c4786ee5-daeb-4948-bc16-7bbf35213382');\n",
              "          const dataTable =\n",
              "            await google.colab.kernel.invokeFunction('convertToInteractive',\n",
              "                                                     [key], {});\n",
              "          if (!dataTable) return;\n",
              "\n",
              "          const docLinkHtml = 'Like what you see? Visit the ' +\n",
              "            '<a target=\"_blank\" href=https://colab.research.google.com/notebooks/data_table.ipynb>data table notebook</a>'\n",
              "            + ' to learn more about interactive tables.';\n",
              "          element.innerHTML = '';\n",
              "          dataTable['output_type'] = 'display_data';\n",
              "          await google.colab.output.renderOutput(dataTable, element);\n",
              "          const docLink = document.createElement('div');\n",
              "          docLink.innerHTML = docLinkHtml;\n",
              "          element.appendChild(docLink);\n",
              "        }\n",
              "      </script>\n",
              "    </div>\n",
              "  </div>\n",
              "  "
            ]
          },
          "metadata": {},
          "execution_count": 6
        }
      ],
      "source": [
        "# Import pandas and create a DataFrame out of one\n",
        "# of the arrays you've created\n",
        "import pandas as pd\n",
        "\n",
        "df_from_array = pd.DataFrame(array_02_dim)\n",
        "df_from_array"
      ]
    },
    {
      "cell_type": "code",
      "execution_count": 7,
      "metadata": {
        "colab": {
          "base_uri": "https://localhost:8080/"
        },
        "id": "au_ncNi9A2Uy",
        "outputId": "7dc88f94-fc33-4abc-aed0-20ddc6dd28cd"
      },
      "outputs": [
        {
          "output_type": "execute_result",
          "data": {
            "text/plain": [
              "array([[1., 1.],\n",
              "       [1., 1.],\n",
              "       [1., 1.],\n",
              "       [1., 1.],\n",
              "       [1., 1.],\n",
              "       [1., 1.],\n",
              "       [1., 1.],\n",
              "       [1., 1.],\n",
              "       [1., 1.],\n",
              "       [1., 1.]])"
            ]
          },
          "metadata": {},
          "execution_count": 7
        }
      ],
      "source": [
        "# Create an array of shape (10, 2) with only ones\n",
        "array_ones = np.ones(shape=(10, 2))\n",
        "array_ones"
      ]
    },
    {
      "cell_type": "code",
      "execution_count": 10,
      "metadata": {
        "colab": {
          "base_uri": "https://localhost:8080/"
        },
        "id": "tUICIyIZA2Uy",
        "outputId": "88a8cb85-3641-4023-cc54-504fec30e232"
      },
      "outputs": [
        {
          "output_type": "execute_result",
          "data": {
            "text/plain": [
              "array([[[0., 0., 0.],\n",
              "        [0., 0., 0.]],\n",
              "\n",
              "       [[0., 0., 0.],\n",
              "        [0., 0., 0.]],\n",
              "\n",
              "       [[0., 0., 0.],\n",
              "        [0., 0., 0.]],\n",
              "\n",
              "       [[0., 0., 0.],\n",
              "        [0., 0., 0.]],\n",
              "\n",
              "       [[0., 0., 0.],\n",
              "        [0., 0., 0.]],\n",
              "\n",
              "       [[0., 0., 0.],\n",
              "        [0., 0., 0.]],\n",
              "\n",
              "       [[0., 0., 0.],\n",
              "        [0., 0., 0.]]])"
            ]
          },
          "metadata": {},
          "execution_count": 10
        }
      ],
      "source": [
        "# Create an array of shape (7, 2, 3) of only zeros\n",
        "array_zeros = np.zeros(shape=(7, 2, 3))\n",
        "array_zeros"
      ]
    },
    {
      "cell_type": "code",
      "execution_count": 11,
      "metadata": {
        "colab": {
          "base_uri": "https://localhost:8080/"
        },
        "id": "YPYCxVPoA2Uz",
        "outputId": "b9ceb6ec-9ac4-4447-f723-728ac54b7e01"
      },
      "outputs": [
        {
          "output_type": "execute_result",
          "data": {
            "text/plain": [
              "array([ 0,  3,  6,  9, 12, 15, 18, 21, 24, 27, 30, 33, 36, 39, 42, 45, 48,\n",
              "       51, 54, 57, 60, 63, 66, 69, 72, 75, 78, 81, 84, 87, 90, 93, 96, 99])"
            ]
          },
          "metadata": {},
          "execution_count": 11
        }
      ],
      "source": [
        "# Create an array within a range of 0 and 100 with step 3\n",
        "array_0_to_100_step_03 = np.array(range(0, 100, 3))\n",
        "array_0_to_100_step_03"
      ]
    },
    {
      "cell_type": "code",
      "execution_count": 13,
      "metadata": {
        "colab": {
          "base_uri": "https://localhost:8080/"
        },
        "id": "9KACj8uVA2Uz",
        "outputId": "887ec880-a277-4e84-847d-71c533687666"
      },
      "outputs": [
        {
          "output_type": "execute_result",
          "data": {
            "text/plain": [
              "array([[2, 1],\n",
              "       [5, 5],\n",
              "       [7, 2],\n",
              "       [1, 5],\n",
              "       [9, 4],\n",
              "       [1, 0],\n",
              "       [1, 7]])"
            ]
          },
          "metadata": {},
          "execution_count": 13
        }
      ],
      "source": [
        "# Create a random array with numbers between 0 and 10 of size (7, 2)\n",
        "array_random_0_10 = np.random.randint(10, size=(7, 2))\n",
        "array_random_0_10"
      ]
    },
    {
      "cell_type": "code",
      "execution_count": 14,
      "metadata": {
        "colab": {
          "base_uri": "https://localhost:8080/"
        },
        "id": "3NAExfCkA2Uz",
        "outputId": "3db4a909-5a06-4e1e-b27c-30f91717db8a"
      },
      "outputs": [
        {
          "output_type": "execute_result",
          "data": {
            "text/plain": [
              "array([[0.35445455, 0.83751655, 0.57237511, 0.78426799, 0.02968855],\n",
              "       [0.87142022, 0.80057945, 0.72849389, 0.89075163, 0.8453919 ],\n",
              "       [0.21994067, 0.27275634, 0.03764034, 0.48993296, 0.02570242]])"
            ]
          },
          "metadata": {},
          "execution_count": 14
        }
      ],
      "source": [
        "# Create a random array of floats between 0 & 1 of shape (3, 5)\n",
        "array_random_0_to_1 = np.random.random((3, 5))\n",
        "array_random_0_to_1"
      ]
    },
    {
      "cell_type": "code",
      "execution_count": 26,
      "metadata": {
        "colab": {
          "base_uri": "https://localhost:8080/"
        },
        "id": "BPiuBKfUA2Uz",
        "outputId": "a45b22a8-7203-4c71-ed72-7d5c93e1c6bf"
      },
      "outputs": [
        {
          "output_type": "execute_result",
          "data": {
            "text/plain": [
              "array([[6, 3, 7, 4, 6, 9],\n",
              "       [2, 6, 7, 4, 3, 7],\n",
              "       [7, 2, 5, 4, 1, 7],\n",
              "       [5, 1, 4, 0, 9, 5]])"
            ]
          },
          "metadata": {},
          "execution_count": 26
        }
      ],
      "source": [
        "# Set the random seed to 42\n",
        "np.random.seed(42)\n",
        "\n",
        "# Create a random array of numbers between 0 & 10 of size (4, 6)\n",
        "array_random_0_to_10 = np.random.randint(10, size=(4, 6))\n",
        "array_random_0_to_10"
      ]
    },
    {
      "cell_type": "markdown",
      "metadata": {
        "id": "ehsi0NKMA2Uz"
      },
      "source": [
        "Run the cell above again, what happens?\n",
        "\n",
        "Are the numbers in the array different or the same? Why do think this is?\n",
        "\n",
        "**ANSWER**\n",
        "\n",
        "The array has the same values no matter how many time I re-run the cell 'cos the random seed is static defined to 42"
      ]
    },
    {
      "cell_type": "code",
      "execution_count": 27,
      "metadata": {
        "colab": {
          "base_uri": "https://localhost:8080/"
        },
        "id": "XAsYfPJlA2Uz",
        "outputId": "8e212b0a-fc69-4180-e862-630abf62f1d4"
      },
      "outputs": [
        {
          "output_type": "execute_result",
          "data": {
            "text/plain": [
              "array([1, 2, 3, 4, 5, 7, 9])"
            ]
          },
          "metadata": {},
          "execution_count": 27
        }
      ],
      "source": [
        "# Create an array of random numbers between 1 & 10 of size (3, 7)\n",
        "# and save it to a variable\n",
        "array_random_1_to_10 = np.random.randint(1, 10, size=(3, 7))\n",
        "\n",
        "# Find the unique numbers in the array you just created\n",
        "np.unique(array_random_1_to_10)"
      ]
    },
    {
      "cell_type": "code",
      "execution_count": 28,
      "metadata": {
        "colab": {
          "base_uri": "https://localhost:8080/"
        },
        "id": "9RFWYt7GA2U0",
        "outputId": "76777272-50a8-4a74-d129-fc88977b7f6e"
      },
      "outputs": [
        {
          "output_type": "execute_result",
          "data": {
            "text/plain": [
              "array([9, 1, 3, 7, 4, 9, 3])"
            ]
          },
          "metadata": {},
          "execution_count": 28
        }
      ],
      "source": [
        "# Find the 0'th index of the latest array you created\n",
        "array_random_1_to_10[0]"
      ]
    },
    {
      "cell_type": "code",
      "execution_count": 29,
      "metadata": {
        "colab": {
          "base_uri": "https://localhost:8080/"
        },
        "id": "PF4kb-QOA2U0",
        "outputId": "094eaf8b-03de-4e6d-94ab-3c26ed08f87f"
      },
      "outputs": [
        {
          "output_type": "execute_result",
          "data": {
            "text/plain": [
              "array([[9, 1, 3, 7, 4, 9, 3],\n",
              "       [5, 3, 7, 5, 9, 7, 2]])"
            ]
          },
          "metadata": {},
          "execution_count": 29
        }
      ],
      "source": [
        "# Get the first 2 rows of latest array you created\n",
        "array_random_1_to_10[:2]"
      ]
    },
    {
      "cell_type": "code",
      "execution_count": 30,
      "metadata": {
        "colab": {
          "base_uri": "https://localhost:8080/"
        },
        "id": "mF-fHFyfA2U0",
        "outputId": "83be0ccb-21bd-42ff-bf2f-7fb192b4fca7"
      },
      "outputs": [
        {
          "output_type": "execute_result",
          "data": {
            "text/plain": [
              "array([[9, 1],\n",
              "       [5, 3]])"
            ]
          },
          "metadata": {},
          "execution_count": 30
        }
      ],
      "source": [
        "# Get the first 2 values of the first 2 rows of the latest array\n",
        "array_random_1_to_10[:2, :2]"
      ]
    },
    {
      "cell_type": "code",
      "execution_count": 31,
      "metadata": {
        "colab": {
          "base_uri": "https://localhost:8080/"
        },
        "id": "lJLqrVBDA2U0",
        "outputId": "9ae518d7-4d90-4e0c-b4f1-63fdc40361ba"
      },
      "outputs": [
        {
          "output_type": "execute_result",
          "data": {
            "text/plain": [
              "(array([[6, 7, 2, 0, 3],\n",
              "        [1, 7, 3, 1, 5],\n",
              "        [5, 9, 3, 5, 1]]),\n",
              " array([[1., 1., 1., 1., 1.],\n",
              "        [1., 1., 1., 1., 1.],\n",
              "        [1., 1., 1., 1., 1.]]))"
            ]
          },
          "metadata": {},
          "execution_count": 31
        }
      ],
      "source": [
        "# Create a random array of numbers between 0 & 10 and an array of ones\n",
        "# both of size (3, 5), save them both to variables\n",
        "array_random_0_to_10 = np.random.randint(10, size=(3, 5))\n",
        "array_ones = np.ones((3, 5))\n",
        "\n",
        "array_random_0_to_10, array_ones"
      ]
    },
    {
      "cell_type": "code",
      "execution_count": 32,
      "metadata": {
        "colab": {
          "base_uri": "https://localhost:8080/"
        },
        "id": "ZwNaN7seA2U0",
        "outputId": "54d91e5e-90f1-4d95-c3ad-d39b0796d2cd"
      },
      "outputs": [
        {
          "output_type": "execute_result",
          "data": {
            "text/plain": [
              "array([[ 7.,  8.,  3.,  1.,  4.],\n",
              "       [ 2.,  8.,  4.,  2.,  6.],\n",
              "       [ 6., 10.,  4.,  6.,  2.]])"
            ]
          },
          "metadata": {},
          "execution_count": 32
        }
      ],
      "source": [
        "# Add the two arrays together\n",
        "array_random_0_to_10 + array_ones"
      ]
    },
    {
      "cell_type": "code",
      "execution_count": 33,
      "metadata": {
        "id": "2AE9YZZKA2U0"
      },
      "outputs": [],
      "source": [
        "# Create another array of ones of shape (5, 3)\n",
        "array_ones = np.ones((5, 3))"
      ]
    },
    {
      "cell_type": "code",
      "execution_count": 34,
      "metadata": {
        "colab": {
          "base_uri": "https://localhost:8080/",
          "height": 183
        },
        "id": "OUm8P6F2A2U1",
        "outputId": "a91aa2f4-a932-48a9-ffed-9ad71a6e5571"
      },
      "outputs": [
        {
          "output_type": "error",
          "ename": "ValueError",
          "evalue": "ignored",
          "traceback": [
            "\u001b[0;31m---------------------------------------------------------------------------\u001b[0m",
            "\u001b[0;31mValueError\u001b[0m                                Traceback (most recent call last)",
            "\u001b[0;32m<ipython-input-34-970982b347a7>\u001b[0m in \u001b[0;36m<cell line: 2>\u001b[0;34m()\u001b[0m\n\u001b[1;32m      1\u001b[0m \u001b[0;31m# Try add the array of ones and the other most recent array together\u001b[0m\u001b[0;34m\u001b[0m\u001b[0;34m\u001b[0m\u001b[0m\n\u001b[0;32m----> 2\u001b[0;31m \u001b[0marray_random_0_to_10\u001b[0m \u001b[0;34m+\u001b[0m \u001b[0marray_ones\u001b[0m\u001b[0;34m\u001b[0m\u001b[0;34m\u001b[0m\u001b[0m\n\u001b[0m",
            "\u001b[0;31mValueError\u001b[0m: operands could not be broadcast together with shapes (3,5) (5,3) "
          ]
        }
      ],
      "source": [
        "# Try add the array of ones and the other most recent array together\n",
        "array_random_0_to_10 + array_ones"
      ]
    },
    {
      "cell_type": "markdown",
      "metadata": {
        "id": "Z_AYyV5oA2U1"
      },
      "source": [
        "When you try the last cell, it produces an error. Why do think this is?\n",
        "\n",
        "**A:** Because the shapes did not follow the rules of **dot product** of the inner values of the operation must be the same and the output must have the shape of the outer values\n",
        "\n",
        "How would you fix it?\n",
        "\n",
        "**A:** either transposing or reshaping one of the arrays/matrix"
      ]
    },
    {
      "cell_type": "code",
      "execution_count": 35,
      "metadata": {
        "id": "U6F0d8OBA2U1"
      },
      "outputs": [],
      "source": [
        "# Create another array of ones of shape (3, 5)\n",
        "array_ones = np.ones((3, 5))"
      ]
    },
    {
      "cell_type": "code",
      "execution_count": 39,
      "metadata": {
        "colab": {
          "base_uri": "https://localhost:8080/"
        },
        "id": "zSLb25q-A2U1",
        "outputId": "654ba5e3-385a-49b7-f752-3275bfb0a98a"
      },
      "outputs": [
        {
          "output_type": "execute_result",
          "data": {
            "text/plain": [
              "(array([[ 5.,  6.,  1., -1.,  2.],\n",
              "        [ 0.,  6.,  2.,  0.,  4.],\n",
              "        [ 4.,  8.,  2.,  4.,  0.]]),\n",
              " (3, 5),\n",
              " (3, 5))"
            ]
          },
          "metadata": {},
          "execution_count": 39
        }
      ],
      "source": [
        "# Subtract the new array of ones from the other most recent array\n",
        "array_random_0_to_10 - array_ones, array_random_0_to_10.shape, array_ones.shape"
      ]
    },
    {
      "cell_type": "code",
      "execution_count": 40,
      "metadata": {
        "colab": {
          "base_uri": "https://localhost:8080/"
        },
        "id": "EQRJDcUuA2U1",
        "outputId": "050c5baa-4430-40e9-f285-2e3308f4c758"
      },
      "outputs": [
        {
          "output_type": "execute_result",
          "data": {
            "text/plain": [
              "array([[6., 7., 2., 0., 3.],\n",
              "       [1., 7., 3., 1., 5.],\n",
              "       [5., 9., 3., 5., 1.]])"
            ]
          },
          "metadata": {},
          "execution_count": 40
        }
      ],
      "source": [
        "# Multiply the ones array with the latest array\n",
        "array_random_0_to_10 * array_ones"
      ]
    },
    {
      "cell_type": "code",
      "execution_count": 41,
      "metadata": {
        "colab": {
          "base_uri": "https://localhost:8080/"
        },
        "id": "oai7JvaUA2U1",
        "outputId": "76674f77-424f-4e53-b303-638b96d4bf71"
      },
      "outputs": [
        {
          "output_type": "execute_result",
          "data": {
            "text/plain": [
              "array([[36, 49,  4,  0,  9],\n",
              "       [ 1, 49,  9,  1, 25],\n",
              "       [25, 81,  9, 25,  1]])"
            ]
          },
          "metadata": {},
          "execution_count": 41
        }
      ],
      "source": [
        "# Take the latest array to the power of 2 using '**'\n",
        "array_random_0_to_10 ** 2"
      ]
    },
    {
      "cell_type": "code",
      "execution_count": 42,
      "metadata": {
        "colab": {
          "base_uri": "https://localhost:8080/"
        },
        "id": "to88_7F4A2U1",
        "outputId": "b52f6fbf-eb41-48c0-b32d-cc0488c77529"
      },
      "outputs": [
        {
          "output_type": "execute_result",
          "data": {
            "text/plain": [
              "array([[36, 49,  4,  0,  9],\n",
              "       [ 1, 49,  9,  1, 25],\n",
              "       [25, 81,  9, 25,  1]])"
            ]
          },
          "metadata": {},
          "execution_count": 42
        }
      ],
      "source": [
        "# Do the same thing with np.square()\n",
        "np.square(array_random_0_to_10)"
      ]
    },
    {
      "cell_type": "code",
      "execution_count": 43,
      "metadata": {
        "colab": {
          "base_uri": "https://localhost:8080/"
        },
        "id": "KgUMYO8wA2U2",
        "outputId": "6793fe47-b380-479b-d424-4dbd1e5bb6b2"
      },
      "outputs": [
        {
          "output_type": "execute_result",
          "data": {
            "text/plain": [
              "3.8666666666666667"
            ]
          },
          "metadata": {},
          "execution_count": 43
        }
      ],
      "source": [
        "# Find the mean of the latest array using np.mean()\n",
        "np.mean(array_random_0_to_10)"
      ]
    },
    {
      "cell_type": "code",
      "execution_count": 44,
      "metadata": {
        "colab": {
          "base_uri": "https://localhost:8080/"
        },
        "id": "AZeIqECoA2U2",
        "outputId": "099075ac-0ae7-49ef-b36e-34b726b22dfc"
      },
      "outputs": [
        {
          "output_type": "execute_result",
          "data": {
            "text/plain": [
              "9"
            ]
          },
          "metadata": {},
          "execution_count": 44
        }
      ],
      "source": [
        "# Find the maximum of the latest array using np.max()\n",
        "np.max(array_random_0_to_10)"
      ]
    },
    {
      "cell_type": "code",
      "execution_count": 45,
      "metadata": {
        "colab": {
          "base_uri": "https://localhost:8080/"
        },
        "id": "bIHkIQ5cA2U2",
        "outputId": "66972f21-2c06-4255-d826-5d947cea285f"
      },
      "outputs": [
        {
          "output_type": "execute_result",
          "data": {
            "text/plain": [
              "0"
            ]
          },
          "metadata": {},
          "execution_count": 45
        }
      ],
      "source": [
        "# Find the minimum of the latest array using np.min()\n",
        "np.min(array_random_0_to_10)"
      ]
    },
    {
      "cell_type": "code",
      "execution_count": 46,
      "metadata": {
        "colab": {
          "base_uri": "https://localhost:8080/"
        },
        "id": "XEI8QGSVA2U2",
        "outputId": "8bc312f6-82cc-445f-a1ad-c2550257dd15"
      },
      "outputs": [
        {
          "output_type": "execute_result",
          "data": {
            "text/plain": [
              "2.7180425129200643"
            ]
          },
          "metadata": {},
          "execution_count": 46
        }
      ],
      "source": [
        "# Find the standard deviation of the latest array\n",
        "np.std(array_random_0_10)"
      ]
    },
    {
      "cell_type": "code",
      "execution_count": 47,
      "metadata": {
        "colab": {
          "base_uri": "https://localhost:8080/"
        },
        "id": "jivy6d1hA2U2",
        "outputId": "4af50c40-6356-46db-df89-d43d964243f8"
      },
      "outputs": [
        {
          "output_type": "execute_result",
          "data": {
            "text/plain": [
              "6.648888888888889"
            ]
          },
          "metadata": {},
          "execution_count": 47
        }
      ],
      "source": [
        "# Find the variance of the latest array\n",
        "np.var(array_random_0_to_10)"
      ]
    },
    {
      "cell_type": "code",
      "execution_count": 48,
      "metadata": {
        "colab": {
          "base_uri": "https://localhost:8080/"
        },
        "id": "s5W6k8ELA2U2",
        "outputId": "9c3d1f87-da99-4aca-a6d1-6bf266f1df41"
      },
      "outputs": [
        {
          "output_type": "execute_result",
          "data": {
            "text/plain": [
              "array([[[6],\n",
              "        [7],\n",
              "        [2],\n",
              "        [0],\n",
              "        [3]],\n",
              "\n",
              "       [[1],\n",
              "        [7],\n",
              "        [3],\n",
              "        [1],\n",
              "        [5]],\n",
              "\n",
              "       [[5],\n",
              "        [9],\n",
              "        [3],\n",
              "        [5],\n",
              "        [1]]])"
            ]
          },
          "metadata": {},
          "execution_count": 48
        }
      ],
      "source": [
        "# Reshape the latest array to (3, 5, 1)\n",
        "array_random_0_to_10.reshape(3, 5, 1)"
      ]
    },
    {
      "cell_type": "code",
      "execution_count": 49,
      "metadata": {
        "colab": {
          "base_uri": "https://localhost:8080/"
        },
        "id": "sDUYBx7BA2U2",
        "outputId": "0cd120cd-fa17-423c-e3ca-5ccc14958140"
      },
      "outputs": [
        {
          "output_type": "execute_result",
          "data": {
            "text/plain": [
              "array([[6, 1, 5],\n",
              "       [7, 7, 9],\n",
              "       [2, 3, 3],\n",
              "       [0, 1, 5],\n",
              "       [3, 5, 1]])"
            ]
          },
          "metadata": {},
          "execution_count": 49
        }
      ],
      "source": [
        "# Transpose the latest array\n",
        "array_random_0_to_10.T"
      ]
    },
    {
      "cell_type": "markdown",
      "metadata": {
        "id": "jYV6Jw13A2U3"
      },
      "source": [
        "What does the transpose do?\n",
        "\n",
        "**A:** It \"flips\" the axes"
      ]
    },
    {
      "cell_type": "code",
      "execution_count": 50,
      "metadata": {
        "colab": {
          "base_uri": "https://localhost:8080/"
        },
        "id": "5QvsnP7JA2U3",
        "outputId": "6c41b79e-4611-4cc3-dfdd-75aad2ac4d28"
      },
      "outputs": [
        {
          "output_type": "execute_result",
          "data": {
            "text/plain": [
              "(array([[9, 1, 9],\n",
              "        [3, 7, 6],\n",
              "        [8, 7, 4]]),\n",
              " array([[1, 4],\n",
              "        [7, 9],\n",
              "        [8, 8]]))"
            ]
          },
          "metadata": {},
          "execution_count": 50
        }
      ],
      "source": [
        "# Create two arrays of random integers between 0 to 10\n",
        "# one of size (3, 3) the other of size (3, 2)\n",
        "array_random_int_01 = np.random.randint(0, 10, size=(3, 3))\n",
        "array_random_int_02 = np.random.randint(0, 10, size=(3, 2))\n",
        "\n",
        "array_random_int_01, array_random_int_02"
      ]
    },
    {
      "cell_type": "code",
      "execution_count": 52,
      "metadata": {
        "colab": {
          "base_uri": "https://localhost:8080/"
        },
        "id": "HH8RPXFIA2U3",
        "outputId": "949f40a8-63e6-4065-902e-cd82fee11544"
      },
      "outputs": [
        {
          "output_type": "execute_result",
          "data": {
            "text/plain": [
              "array([[ 88, 117],\n",
              "       [100, 123],\n",
              "       [ 89, 127]])"
            ]
          },
          "metadata": {},
          "execution_count": 52
        }
      ],
      "source": [
        "# Perform a dot product on the two newest arrays you created\n",
        "np.dot(array_random_int_01, array_random_int_02)"
      ]
    },
    {
      "cell_type": "code",
      "execution_count": 56,
      "metadata": {
        "colab": {
          "base_uri": "https://localhost:8080/"
        },
        "id": "N2-suql6A2U7",
        "outputId": "b8ea6ab2-9c9e-4553-dc50-3f8ff0d273d2"
      },
      "outputs": [
        {
          "output_type": "execute_result",
          "data": {
            "text/plain": [
              "(array([[8, 7, 1],\n",
              "        [0, 6, 6],\n",
              "        [7, 4, 2],\n",
              "        [7, 5, 2]]),\n",
              " array([[0, 2, 4],\n",
              "        [2, 0, 4],\n",
              "        [9, 6, 6],\n",
              "        [8, 9, 9]]))"
            ]
          },
          "metadata": {},
          "execution_count": 56
        }
      ],
      "source": [
        "# Create two arrays of random integers between 0 to 10\n",
        "# both of size (4, 3)\n",
        "array_random_int_01 = np.random.randint(0, 10, size=(4, 3))\n",
        "array_random_int_02 = np.random.randint(0, 10, size=(4, 3))\n",
        "\n",
        "array_random_int_01, array_random_int_02"
      ]
    },
    {
      "cell_type": "code",
      "execution_count": 57,
      "metadata": {
        "colab": {
          "base_uri": "https://localhost:8080/",
          "height": 217
        },
        "id": "RLByCQZAA2U7",
        "outputId": "edd2a797-b57a-488d-d817-2a056441f784"
      },
      "outputs": [
        {
          "output_type": "error",
          "ename": "ValueError",
          "evalue": "ignored",
          "traceback": [
            "\u001b[0;31m---------------------------------------------------------------------------\u001b[0m",
            "\u001b[0;31mValueError\u001b[0m                                Traceback (most recent call last)",
            "\u001b[0;32m<ipython-input-57-80eec07ec616>\u001b[0m in \u001b[0;36m<cell line: 2>\u001b[0;34m()\u001b[0m\n\u001b[1;32m      1\u001b[0m \u001b[0;31m# Perform a dot product on the two newest arrays you created\u001b[0m\u001b[0;34m\u001b[0m\u001b[0;34m\u001b[0m\u001b[0m\n\u001b[0;32m----> 2\u001b[0;31m \u001b[0mnp\u001b[0m\u001b[0;34m.\u001b[0m\u001b[0mdot\u001b[0m\u001b[0;34m(\u001b[0m\u001b[0marray_random_int_01\u001b[0m\u001b[0;34m,\u001b[0m \u001b[0marray_random_int_02\u001b[0m\u001b[0;34m)\u001b[0m\u001b[0;34m\u001b[0m\u001b[0;34m\u001b[0m\u001b[0m\n\u001b[0m",
            "\u001b[0;32m/usr/local/lib/python3.10/dist-packages/numpy/core/overrides.py\u001b[0m in \u001b[0;36mdot\u001b[0;34m(*args, **kwargs)\u001b[0m\n",
            "\u001b[0;31mValueError\u001b[0m: shapes (4,3) and (4,3) not aligned: 3 (dim 1) != 4 (dim 0)"
          ]
        }
      ],
      "source": [
        "# Perform a dot product on the two newest arrays you created\n",
        "np.dot(array_random_int_01, array_random_int_02)"
      ]
    },
    {
      "cell_type": "markdown",
      "metadata": {
        "id": "I4_V9ZpZA2U7"
      },
      "source": [
        "It doesn't work. How would you fix it?\n",
        "\n",
        "**A:** either transposing or reshaping one of the arrays/matrix"
      ]
    },
    {
      "cell_type": "code",
      "execution_count": 58,
      "metadata": {
        "colab": {
          "base_uri": "https://localhost:8080/"
        },
        "id": "SNynM7PzA2U8",
        "outputId": "c6aae4e9-d61f-4e74-9022-40d51c9b59d5"
      },
      "outputs": [
        {
          "output_type": "execute_result",
          "data": {
            "text/plain": [
              "array([[ 18,  20, 120, 136],\n",
              "       [ 36,  24,  72, 108],\n",
              "       [ 16,  22,  99, 110],\n",
              "       [ 18,  22, 105, 119]])"
            ]
          },
          "metadata": {},
          "execution_count": 58
        }
      ],
      "source": [
        "# Take the latest two arrays, perform a transpose on one of them and then perform\n",
        "# a dot product on them both\n",
        "np.dot(array_random_int_01, array_random_int_02.T)"
      ]
    },
    {
      "cell_type": "markdown",
      "metadata": {
        "id": "De7U3xNpA2U8"
      },
      "source": [
        "Notice how performing a transpose allows the dot product to happen.\n",
        "\n",
        "Why is this?\n",
        "\n",
        "Checking out the documentation on [`np.dot()`](https://docs.scipy.org/doc/numpy/reference/generated/numpy.dot.html) may help, as well as reading [Math is Fun's guide on the dot product](https://www.mathsisfun.com/algebra/vectors-dot-product.html).\n",
        "\n",
        "Let's now compare arrays."
      ]
    },
    {
      "cell_type": "code",
      "execution_count": 59,
      "metadata": {
        "colab": {
          "base_uri": "https://localhost:8080/"
        },
        "id": "Rzmuyt3pA2U8",
        "outputId": "f2d759de-04b4-48e2-cb9e-30d7326a00e6"
      },
      "outputs": [
        {
          "output_type": "execute_result",
          "data": {
            "text/plain": [
              "(array([[2, 6, 0],\n",
              "        [3, 3, 4],\n",
              "        [6, 6, 3],\n",
              "        [6, 2, 5]]),\n",
              " array([[1, 9, 8],\n",
              "        [4, 5, 3],\n",
              "        [9, 6, 8],\n",
              "        [6, 0, 0]]))"
            ]
          },
          "metadata": {},
          "execution_count": 59
        }
      ],
      "source": [
        "# Create two arrays of random integers between 0 & 10 of the same shape\n",
        "# and save them to variables\n",
        "array_random_int_01 = np.random.randint(0, 10, size=(4, 3))\n",
        "array_random_int_02 = np.random.randint(0, 10, size=(4, 3))\n",
        "\n",
        "array_random_int_01, array_random_int_02"
      ]
    },
    {
      "cell_type": "code",
      "execution_count": 60,
      "metadata": {
        "colab": {
          "base_uri": "https://localhost:8080/"
        },
        "id": "iZtfgtUKA2U9",
        "outputId": "c92b8d8b-8df1-4839-d0f5-1c194370e4c2"
      },
      "outputs": [
        {
          "output_type": "execute_result",
          "data": {
            "text/plain": [
              "array([[ True, False, False],\n",
              "       [False, False,  True],\n",
              "       [False, False, False],\n",
              "       [False,  True,  True]])"
            ]
          },
          "metadata": {},
          "execution_count": 60
        }
      ],
      "source": [
        "# Compare the two arrays with '>'\n",
        "array_random_int_01 > array_random_int_02"
      ]
    },
    {
      "cell_type": "markdown",
      "metadata": {
        "id": "lgtXkpW_A2U9"
      },
      "source": [
        "What happens when you compare the arrays with `>`?\n",
        "\n",
        "**A:** It compares each value of the arrays at the same index"
      ]
    },
    {
      "cell_type": "code",
      "execution_count": 61,
      "metadata": {
        "colab": {
          "base_uri": "https://localhost:8080/"
        },
        "id": "MaJ2N2MJA2U9",
        "outputId": "396c1d1d-6111-4cc0-bbe6-7e011a3d8473"
      },
      "outputs": [
        {
          "output_type": "execute_result",
          "data": {
            "text/plain": [
              "array([[ True, False, False],\n",
              "       [False, False,  True],\n",
              "       [False,  True, False],\n",
              "       [ True,  True,  True]])"
            ]
          },
          "metadata": {},
          "execution_count": 61
        }
      ],
      "source": [
        "# Compare the two arrays with '>='\n",
        "array_random_int_01 >= array_random_int_02"
      ]
    },
    {
      "cell_type": "code",
      "execution_count": 63,
      "metadata": {
        "colab": {
          "base_uri": "https://localhost:8080/"
        },
        "id": "vaxCrMlyA2U9",
        "outputId": "9e52ea63-5904-438d-d95d-b06c63ed96ba"
      },
      "outputs": [
        {
          "output_type": "execute_result",
          "data": {
            "text/plain": [
              "array([[False, False, False],\n",
              "       [False, False, False],\n",
              "       [False, False, False],\n",
              "       [False, False, False]])"
            ]
          },
          "metadata": {},
          "execution_count": 63
        }
      ],
      "source": [
        "# Find which elements of the first array are greater than 7\n",
        "array_random_int_01 > 7"
      ]
    },
    {
      "cell_type": "code",
      "execution_count": 64,
      "metadata": {
        "colab": {
          "base_uri": "https://localhost:8080/"
        },
        "id": "t1xPoCo9A2U9",
        "outputId": "f0391466-d929-49ae-fa76-ca3b95a59584"
      },
      "outputs": [
        {
          "output_type": "execute_result",
          "data": {
            "text/plain": [
              "array([[False, False, False],\n",
              "       [False, False, False],\n",
              "       [False, False, False],\n",
              "       [False, False, False]])"
            ]
          },
          "metadata": {},
          "execution_count": 64
        }
      ],
      "source": [
        "# Which parts of each array are equal? (try using '==')\n",
        "array_random_int_01 == 7"
      ]
    },
    {
      "cell_type": "code",
      "execution_count": 65,
      "metadata": {
        "colab": {
          "base_uri": "https://localhost:8080/"
        },
        "id": "-2CHHRLSA2U9",
        "outputId": "b0264f00-d08b-4bce-8016-13e15fd1671c"
      },
      "outputs": [
        {
          "output_type": "execute_result",
          "data": {
            "text/plain": [
              "array([[0, 2, 6],\n",
              "       [3, 3, 4],\n",
              "       [3, 6, 6],\n",
              "       [2, 5, 6]])"
            ]
          },
          "metadata": {},
          "execution_count": 65
        }
      ],
      "source": [
        "# Sort one of the arrays you just created in ascending order\n",
        "np.sort(array_random_int_01)"
      ]
    },
    {
      "cell_type": "code",
      "execution_count": 67,
      "metadata": {
        "colab": {
          "base_uri": "https://localhost:8080/"
        },
        "id": "r8XaMEb4A2VA",
        "outputId": "6c588265-2f57-4d0e-c9d2-bfffef99dda4"
      },
      "outputs": [
        {
          "output_type": "execute_result",
          "data": {
            "text/plain": [
              "array([[2, 0, 1],\n",
              "       [0, 1, 2],\n",
              "       [2, 0, 1],\n",
              "       [1, 2, 0]])"
            ]
          },
          "metadata": {},
          "execution_count": 67
        }
      ],
      "source": [
        "# Sort the indexes of one of the arrays you just created\n",
        "np.argsort(array_random_int_01)"
      ]
    },
    {
      "cell_type": "code",
      "execution_count": 68,
      "metadata": {
        "colab": {
          "base_uri": "https://localhost:8080/"
        },
        "id": "iG08xH7zA2VA",
        "outputId": "94ff4df1-de22-401d-d440-e35afaa001af"
      },
      "outputs": [
        {
          "output_type": "execute_result",
          "data": {
            "text/plain": [
              "1"
            ]
          },
          "metadata": {},
          "execution_count": 68
        }
      ],
      "source": [
        "# Find the index with the maximum value in one of the arrays you've created\n",
        "np.argmax(array_random_int_01)"
      ]
    },
    {
      "cell_type": "code",
      "execution_count": 70,
      "metadata": {
        "colab": {
          "base_uri": "https://localhost:8080/"
        },
        "id": "u3kDJw2TA2VA",
        "outputId": "a736a9c2-d59a-4506-bab5-57867598e8c7"
      },
      "outputs": [
        {
          "output_type": "execute_result",
          "data": {
            "text/plain": [
              "2"
            ]
          },
          "metadata": {},
          "execution_count": 70
        }
      ],
      "source": [
        "# Find the index with the minimum value in one of the arrays you've created\n",
        "np.argmin(array_random_int_01)"
      ]
    },
    {
      "cell_type": "code",
      "execution_count": 71,
      "metadata": {
        "colab": {
          "base_uri": "https://localhost:8080/"
        },
        "id": "YLlQ1hrpA2VB",
        "outputId": "46296f43-4633-4926-ae18-c8aa71dee2a8"
      },
      "outputs": [
        {
          "output_type": "execute_result",
          "data": {
            "text/plain": [
              "array([1, 1, 0, 0])"
            ]
          },
          "metadata": {},
          "execution_count": 71
        }
      ],
      "source": [
        "# Find the indexes with the maximum values down the 1st axis (axis=1)\n",
        "# of one of the arrays you created\n",
        "np.argmax(array_random_int_02, axis=1)"
      ]
    },
    {
      "cell_type": "code",
      "execution_count": 72,
      "metadata": {
        "colab": {
          "base_uri": "https://localhost:8080/"
        },
        "id": "7MF3ZmZtA2VD",
        "outputId": "fb4f9b78-2cf9-434a-eaea-c743ddeb5e90"
      },
      "outputs": [
        {
          "output_type": "execute_result",
          "data": {
            "text/plain": [
              "array([0, 3, 3])"
            ]
          },
          "metadata": {},
          "execution_count": 72
        }
      ],
      "source": [
        "# Find the indexes with the minimum values across the 0th axis (axis=0)\n",
        "# of one of the arrays you created\n",
        "np.argmin(array_random_int_02, axis=0)"
      ]
    },
    {
      "cell_type": "code",
      "execution_count": 73,
      "metadata": {
        "colab": {
          "base_uri": "https://localhost:8080/"
        },
        "id": "6uF9C75vA2VD",
        "outputId": "31f9aef5-390f-4599-c0aa-31f73e373f03"
      },
      "outputs": [
        {
          "output_type": "execute_result",
          "data": {
            "text/plain": [
              "array([[-0.39210815, -1.46351495,  0.29612028,  0.26105527,  0.00511346],\n",
              "       [-0.23458713, -1.41537074, -0.42064532, -0.34271452, -0.80227727],\n",
              "       [-0.16128571,  0.40405086,  1.8861859 ,  0.17457781,  0.25755039]])"
            ]
          },
          "metadata": {},
          "execution_count": 73
        }
      ],
      "source": [
        "# Create an array of normally distributed random numbers\n",
        "np.random.randn(3, 5)"
      ]
    },
    {
      "cell_type": "code",
      "execution_count": 74,
      "metadata": {
        "colab": {
          "base_uri": "https://localhost:8080/"
        },
        "id": "v7B3ljY2A2VD",
        "outputId": "b48e9602-ce8e-4c46-f2a0-46acd672d565"
      },
      "outputs": [
        {
          "output_type": "execute_result",
          "data": {
            "text/plain": [
              "array([  1.,  12.,  23.,  34.,  45.,  56.,  67.,  78.,  89., 100.])"
            ]
          },
          "metadata": {},
          "execution_count": 74
        }
      ],
      "source": [
        "# Create an array with 10 evenly spaced numbers between 1 and 100\n",
        "np.linspace(1, 100, 10)"
      ]
    },
    {
      "cell_type": "markdown",
      "metadata": {
        "id": "z5Ip_y3bA2VD"
      },
      "source": [
        "## Extensions\n",
        "\n",
        "For more exercises, check out the [NumPy quickstart tutorial](https://numpy.org/doc/stable/user/quickstart.html). A good practice would be to read through it and for the parts you find interesting, add them into the end of this notebook.\n",
        "\n",
        "Pay particular attention to the section on broadcasting. And most importantly, get hands-on with the code as much as possible. If in dobut, run the code, see what it does.\n",
        "\n",
        "The next place you could go is the [Stack Overflow page for the top questions and answers for NumPy](https://stackoverflow.com/questions/tagged/numpy?sort=MostVotes&edited=true). Often, you'll find some of the most common and useful NumPy functions here. Don't forget to play around with the filters! You'll likely find something helpful here.\n",
        "\n",
        "Finally, as always, remember, the best way to learn something new is to try it. And try it relentlessly. If you get interested in some kind of NumPy function, asking yourself, \"I wonder if NumPy could do that?\", go and find out."
      ]
    }
  ],
  "metadata": {
    "kernelspec": {
      "display_name": "Python 3",
      "language": "python",
      "name": "python3"
    },
    "language_info": {
      "codemirror_mode": {
        "name": "ipython",
        "version": 3
      },
      "file_extension": ".py",
      "mimetype": "text/x-python",
      "name": "python",
      "nbconvert_exporter": "python",
      "pygments_lexer": "ipython3",
      "version": "3.8.3"
    },
    "colab": {
      "provenance": []
    }
  },
  "nbformat": 4,
  "nbformat_minor": 0
}