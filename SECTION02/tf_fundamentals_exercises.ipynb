{
  "nbformat": 4,
  "nbformat_minor": 0,
  "metadata": {
    "colab": {
      "provenance": [],
      "gpuType": "T4"
    },
    "kernelspec": {
      "name": "python3",
      "display_name": "Python 3"
    },
    "language_info": {
      "name": "python"
    },
    "accelerator": "GPU"
  },
  "cells": [
    {
      "cell_type": "code",
      "source": [
        "# Import TensorFlow\n",
        "import tensorflow as tf\n",
        "print(tf.__version__)"
      ],
      "metadata": {
        "colab": {
          "base_uri": "https://localhost:8080/"
        },
        "id": "8qV6BxFvi4Ns",
        "outputId": "0a8367a3-dcf9-44c2-eace-9860d1f4b4d9"
      },
      "execution_count": 1,
      "outputs": [
        {
          "output_type": "stream",
          "name": "stdout",
          "text": [
            "2.12.0\n"
          ]
        }
      ]
    },
    {
      "cell_type": "markdown",
      "source": [
        "# 1.Create a vector, scalar, matrix and tensor with values of your choosing using tf.constant()."
      ],
      "metadata": {
        "id": "dFNsVisAivgs"
      }
    },
    {
      "cell_type": "code",
      "source": [
        "scalar = tf.constant(8)\n",
        "scalar"
      ],
      "metadata": {
        "colab": {
          "base_uri": "https://localhost:8080/"
        },
        "id": "Z12h74emi85l",
        "outputId": "300a3c99-ef28-45e7-8144-a7d6c30b5ab1"
      },
      "execution_count": 2,
      "outputs": [
        {
          "output_type": "execute_result",
          "data": {
            "text/plain": [
              "<tf.Tensor: shape=(), dtype=int32, numpy=8>"
            ]
          },
          "metadata": {},
          "execution_count": 2
        }
      ]
    },
    {
      "cell_type": "code",
      "source": [
        "vector = tf.constant([10, 10])\n",
        "vector"
      ],
      "metadata": {
        "colab": {
          "base_uri": "https://localhost:8080/"
        },
        "id": "ki-vuRcWjuNE",
        "outputId": "7e657302-d567-4a6b-b6f8-8d8514fc6e97"
      },
      "execution_count": 3,
      "outputs": [
        {
          "output_type": "execute_result",
          "data": {
            "text/plain": [
              "<tf.Tensor: shape=(2,), dtype=int32, numpy=array([10, 10], dtype=int32)>"
            ]
          },
          "metadata": {},
          "execution_count": 3
        }
      ]
    },
    {
      "cell_type": "code",
      "source": [
        "matrix = tf.constant([[1, 2, 3],\n",
        "                      [4, 5, 6]])\n",
        "matrix"
      ],
      "metadata": {
        "colab": {
          "base_uri": "https://localhost:8080/"
        },
        "id": "_WhrMAGtkJtK",
        "outputId": "d4267762-1eb5-415c-c2ba-987bae4dbd59"
      },
      "execution_count": 4,
      "outputs": [
        {
          "output_type": "execute_result",
          "data": {
            "text/plain": [
              "<tf.Tensor: shape=(2, 3), dtype=int32, numpy=\n",
              "array([[1, 2, 3],\n",
              "       [4, 5, 6]], dtype=int32)>"
            ]
          },
          "metadata": {},
          "execution_count": 4
        }
      ]
    },
    {
      "cell_type": "code",
      "source": [
        "tensor = tf.constant([[[1, 2, 3],\n",
        "                       [4, 5, 6]],\n",
        "                      [[7, 8, 9],\n",
        "                      [10, 11, 12]]])\n",
        "tensor"
      ],
      "metadata": {
        "colab": {
          "base_uri": "https://localhost:8080/"
        },
        "id": "3SFRex-Mjy0U",
        "outputId": "8cee12ab-c20a-46db-c1b3-44c5e94b2999"
      },
      "execution_count": 5,
      "outputs": [
        {
          "output_type": "execute_result",
          "data": {
            "text/plain": [
              "<tf.Tensor: shape=(2, 2, 3), dtype=int32, numpy=\n",
              "array([[[ 1,  2,  3],\n",
              "        [ 4,  5,  6]],\n",
              "\n",
              "       [[ 7,  8,  9],\n",
              "        [10, 11, 12]]], dtype=int32)>"
            ]
          },
          "metadata": {},
          "execution_count": 5
        }
      ]
    },
    {
      "cell_type": "markdown",
      "source": [
        "# 2.Find the shape, rank and size of the tensors you created in 1."
      ],
      "metadata": {
        "id": "uy2jmt8ckV5w"
      }
    },
    {
      "cell_type": "code",
      "source": [
        "def get_info(tensor):\n",
        "  print(\"\\nDatatype: \", tensor.dtype,\n",
        "      \"\\nDimensions (rank): \", tensor.ndim,\n",
        "      \"\\nShape: \", tensor.shape,\n",
        "      \"\\nSize: \", tf.size(tensor).numpy(),\n",
        "      \"\\nElements along the first axis: \", tensor.shape[0],\n",
        "      \"\\nElements along the last axis: \", tensor.shape[-1],\n",
        "      \"\\nMaximum value: \", tf.reduce_max(tensor),\n",
        "      \"\\nMinimum value: \", tf.reduce_min(tensor))"
      ],
      "metadata": {
        "id": "B-nSNlDskddg"
      },
      "execution_count": 44,
      "outputs": []
    },
    {
      "cell_type": "code",
      "source": [
        "get_info(vector)"
      ],
      "metadata": {
        "colab": {
          "base_uri": "https://localhost:8080/"
        },
        "id": "n0zvJqwEmGKx",
        "outputId": "fa894252-b1d6-42ef-f912-77bf6e61570a"
      },
      "execution_count": 41,
      "outputs": [
        {
          "output_type": "stream",
          "name": "stdout",
          "text": [
            "\n",
            "Datatype:  <dtype: 'int32'> \n",
            "Dimensions (rank):  1 \n",
            "Shape:  (2,) \n",
            "Size:  2 \n",
            "Elements along the first axis:  2 \n",
            "Elements along the last axis:  2 \n",
            "Maximum value:  tf.Tensor(10, shape=(), dtype=int32) \n",
            "Minimum value:  tf.Tensor(10, shape=(), dtype=int32)\n"
          ]
        }
      ]
    },
    {
      "cell_type": "code",
      "source": [
        "get_info(matrix)"
      ],
      "metadata": {
        "colab": {
          "base_uri": "https://localhost:8080/"
        },
        "id": "wWvWOvR9mIko",
        "outputId": "02d47d98-224c-473e-becd-a9f945be9b94"
      },
      "execution_count": 42,
      "outputs": [
        {
          "output_type": "stream",
          "name": "stdout",
          "text": [
            "\n",
            "Datatype:  <dtype: 'int32'> \n",
            "Dimensions (rank):  2 \n",
            "Shape:  (2, 3) \n",
            "Size:  6 \n",
            "Elements along the first axis:  2 \n",
            "Elements along the last axis:  3 \n",
            "Maximum value:  tf.Tensor(6, shape=(), dtype=int32) \n",
            "Minimum value:  tf.Tensor(1, shape=(), dtype=int32)\n"
          ]
        }
      ]
    },
    {
      "cell_type": "code",
      "source": [
        "get_info(tensor)"
      ],
      "metadata": {
        "colab": {
          "base_uri": "https://localhost:8080/"
        },
        "id": "z09YND3tmKRg",
        "outputId": "3083bbef-a55a-4c13-f528-9e1807e4702d"
      },
      "execution_count": 28,
      "outputs": [
        {
          "output_type": "stream",
          "name": "stdout",
          "text": [
            "\n",
            "Datatype:  <dtype: 'int32'> \n",
            "Dimensions (rank):  3 \n",
            "Shape:  (2, 2, 3) \n",
            "Size:  12 \n",
            "Elements along the first axis:  2 \n",
            "Elements along the last axis:  3 \n",
            "Maximum value:  tf.Tensor(12, shape=(), dtype=int32) \n",
            "Minimum value:  tf.Tensor(1, shape=(), dtype=int32)\n"
          ]
        }
      ]
    },
    {
      "cell_type": "markdown",
      "source": [
        "# 3. Create two tensors containing random values between 0 and 1 with shape [5, 300]."
      ],
      "metadata": {
        "id": "POKrpqKwmLpY"
      }
    },
    {
      "cell_type": "code",
      "source": [
        "tf.random.set_seed(42)\n",
        "random_tensor_01 = tf.random.uniform(shape=(5, 300))\n",
        "random_tensor_02 = tf.random.uniform(shape=(5, 300))\n",
        "\n",
        "random_tensor_01, random_tensor_02"
      ],
      "metadata": {
        "colab": {
          "base_uri": "https://localhost:8080/"
        },
        "id": "XIh64ZM6m4xE",
        "outputId": "166b394a-95bb-4e4a-f34e-e91d2587607b"
      },
      "execution_count": 29,
      "outputs": [
        {
          "output_type": "execute_result",
          "data": {
            "text/plain": [
              "(<tf.Tensor: shape=(5, 300), dtype=float32, numpy=\n",
              " array([[0.6645621 , 0.44100678, 0.3528825 , ..., 0.31410468, 0.7593535 ,\n",
              "         0.03699052],\n",
              "        [0.532024  , 0.29129946, 0.10571766, ..., 0.54052293, 0.31425726,\n",
              "         0.2200619 ],\n",
              "        [0.08404207, 0.03614604, 0.97732127, ..., 0.21516645, 0.9786098 ,\n",
              "         0.00726748],\n",
              "        [0.7396945 , 0.6653172 , 0.0787828 , ..., 0.7117733 , 0.07013571,\n",
              "         0.9409125 ],\n",
              "        [0.15861344, 0.12024033, 0.27218235, ..., 0.8824879 , 0.1432488 ,\n",
              "         0.44135118]], dtype=float32)>,\n",
              " <tf.Tensor: shape=(5, 300), dtype=float32, numpy=\n",
              " array([[0.68789124, 0.48447883, 0.9309944 , ..., 0.6920762 , 0.33180213,\n",
              "         0.9212563 ],\n",
              "        [0.27369928, 0.10631859, 0.6218617 , ..., 0.4382149 , 0.30427706,\n",
              "         0.51477313],\n",
              "        [0.00920248, 0.37280262, 0.8177401 , ..., 0.56786287, 0.49201214,\n",
              "         0.9892651 ],\n",
              "        [0.88608265, 0.08672249, 0.12160683, ..., 0.91770685, 0.72545695,\n",
              "         0.8280058 ],\n",
              "        [0.36690474, 0.9200133 , 0.9646884 , ..., 0.69012   , 0.7137332 ,\n",
              "         0.2584542 ]], dtype=float32)>)"
            ]
          },
          "metadata": {},
          "execution_count": 29
        }
      ]
    },
    {
      "cell_type": "code",
      "source": [
        "get_info(random_tensor_01), get_info(random_tensor_02)"
      ],
      "metadata": {
        "colab": {
          "base_uri": "https://localhost:8080/"
        },
        "id": "diUtdJgTnKrF",
        "outputId": "0db6dde2-d4d1-43d7-d5dd-cb2cad183088"
      },
      "execution_count": 30,
      "outputs": [
        {
          "output_type": "stream",
          "name": "stdout",
          "text": [
            "\n",
            "Datatype:  <dtype: 'float32'> \n",
            "Dimensions (rank):  2 \n",
            "Shape:  (5, 300) \n",
            "Size:  1500 \n",
            "Elements along the first axis:  5 \n",
            "Elements along the last axis:  300 \n",
            "Maximum value:  tf.Tensor(0.99890864, shape=(), dtype=float32) \n",
            "Minimum value:  tf.Tensor(0.00019192696, shape=(), dtype=float32)\n",
            "\n",
            "Datatype:  <dtype: 'float32'> \n",
            "Dimensions (rank):  2 \n",
            "Shape:  (5, 300) \n",
            "Size:  1500 \n",
            "Elements along the first axis:  5 \n",
            "Elements along the last axis:  300 \n",
            "Maximum value:  tf.Tensor(0.999833, shape=(), dtype=float32) \n",
            "Minimum value:  tf.Tensor(0.00032281876, shape=(), dtype=float32)\n"
          ]
        },
        {
          "output_type": "execute_result",
          "data": {
            "text/plain": [
              "(None, None)"
            ]
          },
          "metadata": {},
          "execution_count": 30
        }
      ]
    },
    {
      "cell_type": "markdown",
      "source": [
        "# 4. Multiply the two tensors you created in 3 using matrix multiplication."
      ],
      "metadata": {
        "id": "XrzVNDrenPXM"
      }
    },
    {
      "cell_type": "code",
      "source": [
        "multiplied_tensor = tf.matmul(random_tensor_01, tf.transpose(random_tensor_02))\n",
        "multiplied_tensor, get_info(multiplied_tensor)"
      ],
      "metadata": {
        "colab": {
          "base_uri": "https://localhost:8080/"
        },
        "id": "jrPARGuDnnOE",
        "outputId": "206d77c7-40c7-416c-a108-76c034249ecf"
      },
      "execution_count": 31,
      "outputs": [
        {
          "output_type": "stream",
          "name": "stdout",
          "text": [
            "\n",
            "Datatype:  <dtype: 'float32'> \n",
            "Dimensions (rank):  2 \n",
            "Shape:  (5, 5) \n",
            "Size:  25 \n",
            "Elements along the first axis:  5 \n",
            "Elements along the last axis:  5 \n",
            "Maximum value:  tf.Tensor(85.05689, shape=(), dtype=float32) \n",
            "Minimum value:  tf.Tensor(68.80438, shape=(), dtype=float32)\n"
          ]
        },
        {
          "output_type": "execute_result",
          "data": {
            "text/plain": [
              "(<tf.Tensor: shape=(5, 5), dtype=float32, numpy=\n",
              " array([[80.333435, 73.40498 , 77.15961 , 73.98368 , 80.90053 ],\n",
              "        [75.14637 , 68.80438 , 74.24303 , 71.84184 , 75.60205 ],\n",
              "        [79.7594  , 75.64456 , 77.79758 , 74.748726, 80.55984 ],\n",
              "        [75.085266, 69.06408 , 74.30776 , 72.27615 , 76.05667 ],\n",
              "        [85.05689 , 74.26629 , 78.00687 , 74.886795, 83.13417 ]],\n",
              "       dtype=float32)>,\n",
              " None)"
            ]
          },
          "metadata": {},
          "execution_count": 31
        }
      ]
    },
    {
      "cell_type": "markdown",
      "source": [
        "# 5. Multiply the two tensors you created in 3 using dot product."
      ],
      "metadata": {
        "id": "72W2-QNkn9kK"
      }
    },
    {
      "cell_type": "code",
      "source": [
        "dot_product_tensor = tf.tensordot(random_tensor_01, tf.transpose(random_tensor_02), axes=1)\n",
        "dot_product_tensor, get_info(dot_product_tensor)"
      ],
      "metadata": {
        "colab": {
          "base_uri": "https://localhost:8080/"
        },
        "id": "qPptASnVoGmq",
        "outputId": "88537fbd-b4ca-4c6b-8af1-66597ec912f3"
      },
      "execution_count": 32,
      "outputs": [
        {
          "output_type": "stream",
          "name": "stdout",
          "text": [
            "\n",
            "Datatype:  <dtype: 'float32'> \n",
            "Dimensions (rank):  2 \n",
            "Shape:  (5, 5) \n",
            "Size:  25 \n",
            "Elements along the first axis:  5 \n",
            "Elements along the last axis:  5 \n",
            "Maximum value:  tf.Tensor(85.05689, shape=(), dtype=float32) \n",
            "Minimum value:  tf.Tensor(68.80438, shape=(), dtype=float32)\n"
          ]
        },
        {
          "output_type": "execute_result",
          "data": {
            "text/plain": [
              "(<tf.Tensor: shape=(5, 5), dtype=float32, numpy=\n",
              " array([[80.333435, 73.40498 , 77.15961 , 73.98368 , 80.90053 ],\n",
              "        [75.14637 , 68.80438 , 74.24303 , 71.84184 , 75.60205 ],\n",
              "        [79.7594  , 75.64456 , 77.79758 , 74.748726, 80.55984 ],\n",
              "        [75.085266, 69.06408 , 74.30776 , 72.27615 , 76.05667 ],\n",
              "        [85.05689 , 74.26629 , 78.00687 , 74.886795, 83.13417 ]],\n",
              "       dtype=float32)>,\n",
              " None)"
            ]
          },
          "metadata": {},
          "execution_count": 32
        }
      ]
    },
    {
      "cell_type": "markdown",
      "source": [
        "# 6. Create a tensor with random values between 0 and 1 with shape [224, 224, 3]."
      ],
      "metadata": {
        "id": "HkUfbW5uoT6A"
      }
    },
    {
      "cell_type": "code",
      "source": [
        "random_tensor = tf.random.uniform(shape=(224, 224, 3))\n",
        "random_tensor"
      ],
      "metadata": {
        "colab": {
          "base_uri": "https://localhost:8080/"
        },
        "id": "Eblas54xojP5",
        "outputId": "481c14b4-e1b8-4ce3-dd8f-9891d5297ce3"
      },
      "execution_count": 33,
      "outputs": [
        {
          "output_type": "execute_result",
          "data": {
            "text/plain": [
              "<tf.Tensor: shape=(224, 224, 3), dtype=float32, numpy=\n",
              "array([[[0.7413678 , 0.62854624, 0.01738465],\n",
              "        [0.3431449 , 0.51063764, 0.3777541 ],\n",
              "        [0.07321596, 0.02137029, 0.2871771 ],\n",
              "        ...,\n",
              "        [0.98953485, 0.45382905, 0.2006687 ],\n",
              "        [0.6295223 , 0.4937899 , 0.01816809],\n",
              "        [0.95386636, 0.11542463, 0.85691285]],\n",
              "\n",
              "       [[0.78435016, 0.7826872 , 0.87936425],\n",
              "        [0.24906898, 0.3207239 , 0.10955775],\n",
              "        [0.543224  , 0.7151396 , 0.40334642],\n",
              "        ...,\n",
              "        [0.2445668 , 0.01746976, 0.9036933 ],\n",
              "        [0.02975535, 0.592268  , 0.9877522 ],\n",
              "        [0.36701274, 0.33112562, 0.5638567 ]],\n",
              "\n",
              "       [[0.15829337, 0.7288823 , 0.3366307 ],\n",
              "        [0.70792687, 0.16910625, 0.9429966 ],\n",
              "        [0.10120225, 0.5919596 , 0.8687303 ],\n",
              "        ...,\n",
              "        [0.28134012, 0.10011208, 0.37038183],\n",
              "        [0.77874243, 0.05421627, 0.4664607 ],\n",
              "        [0.2549187 , 0.7968637 , 0.83405185]],\n",
              "\n",
              "       ...,\n",
              "\n",
              "       [[0.32922816, 0.06343532, 0.23936498],\n",
              "        [0.42692196, 0.3615111 , 0.901929  ],\n",
              "        [0.8320831 , 0.21068895, 0.08272386],\n",
              "        ...,\n",
              "        [0.65110314, 0.40780962, 0.25967455],\n",
              "        [0.9018173 , 0.8245677 , 0.16757596],\n",
              "        [0.41854453, 0.19092035, 0.2523303 ]],\n",
              "\n",
              "       [[0.7064005 , 0.222404  , 0.82219553],\n",
              "        [0.8235872 , 0.76544905, 0.80999327],\n",
              "        [0.1100682 , 0.00520217, 0.6127168 ],\n",
              "        ...,\n",
              "        [0.98068535, 0.8958733 , 0.17706168],\n",
              "        [0.4252876 , 0.02087164, 0.496238  ],\n",
              "        [0.6599953 , 0.58505726, 0.7089884 ]],\n",
              "\n",
              "       [[0.90045786, 0.45803344, 0.9050728 ],\n",
              "        [0.92233   , 0.38456154, 0.30329156],\n",
              "        [0.03238845, 0.18773472, 0.9096625 ],\n",
              "        ...,\n",
              "        [0.4445815 , 0.04578841, 0.21090853],\n",
              "        [0.25966525, 0.24412918, 0.76123405],\n",
              "        [0.9643831 , 0.32687283, 0.4828869 ]]], dtype=float32)>"
            ]
          },
          "metadata": {},
          "execution_count": 33
        }
      ]
    },
    {
      "cell_type": "code",
      "source": [
        "get_info(random_tensor)"
      ],
      "metadata": {
        "colab": {
          "base_uri": "https://localhost:8080/"
        },
        "id": "_OWx8IejopFB",
        "outputId": "d69cdcbb-4786-427d-a37b-99e42226f078"
      },
      "execution_count": 43,
      "outputs": [
        {
          "output_type": "stream",
          "name": "stdout",
          "text": [
            "\n",
            "Datatype:  <dtype: 'float32'> \n",
            "Dimensions (rank):  4 \n",
            "Shape:  (1, 224, 224, 3) \n",
            "Size:  150528 \n",
            "Elements along the first axis:  1 \n",
            "Elements along the last axis:  3 \n",
            "Maximum value:  tf.Tensor(0.9999902, shape=(), dtype=float32) \n",
            "Minimum value:  tf.Tensor(1.0967255e-05, shape=(), dtype=float32)\n"
          ]
        }
      ]
    },
    {
      "cell_type": "markdown",
      "source": [
        "# 8. Created a tensor with random values of shape [1, 224, 224, 3] then squeeze it to change the shape to [224, 224, 3]."
      ],
      "metadata": {
        "id": "c3NFqXfWpRAn"
      }
    },
    {
      "cell_type": "code",
      "source": [
        "random_tensor = tf.random.uniform(shape=(1, 224 ,224 ,3))\n",
        "get_info(random_tensor), random_tensor"
      ],
      "metadata": {
        "colab": {
          "base_uri": "https://localhost:8080/"
        },
        "id": "obr4sN2Hp89m",
        "outputId": "c23372bd-5146-45e2-91f7-b822069d8332"
      },
      "execution_count": 35,
      "outputs": [
        {
          "output_type": "stream",
          "name": "stdout",
          "text": [
            "\n",
            "Datatype:  <dtype: 'float32'> \n",
            "Dimensions (rank):  4 \n",
            "Shape:  (1, 224, 224, 3) \n",
            "Size:  150528 \n",
            "Elements along the first axis:  1 \n",
            "Elements along the last axis:  3 \n",
            "Maximum value:  tf.Tensor(0.9999902, shape=(), dtype=float32) \n",
            "Minimum value:  tf.Tensor(1.0967255e-05, shape=(), dtype=float32)\n"
          ]
        },
        {
          "output_type": "execute_result",
          "data": {
            "text/plain": [
              "(None,\n",
              " <tf.Tensor: shape=(1, 224, 224, 3), dtype=float32, numpy=\n",
              " array([[[[7.4023080e-01, 3.3938193e-01, 5.6925058e-01],\n",
              "          [4.4811392e-01, 2.9285502e-01, 4.2600560e-01],\n",
              "          [6.2890387e-01, 6.9106102e-01, 3.0925727e-01],\n",
              "          ...,\n",
              "          [9.1063976e-04, 6.9863999e-01, 1.7180574e-01],\n",
              "          [6.7542684e-01, 8.3492923e-01, 3.9038682e-01],\n",
              "          [2.3664141e-01, 6.2239432e-01, 1.0117912e-01]],\n",
              " \n",
              "         [[9.7064960e-01, 5.4594779e-01, 7.6819682e-01],\n",
              "          [2.6893330e-01, 2.6959443e-01, 2.8982997e-01],\n",
              "          [2.9215467e-01, 1.7108858e-01, 6.5597153e-01],\n",
              "          ...,\n",
              "          [9.5621395e-01, 5.4591870e-01, 5.3843534e-01],\n",
              "          [9.8861516e-01, 1.5786767e-01, 6.1375093e-01],\n",
              "          [7.2668612e-01, 6.1637163e-03, 1.6534305e-01]],\n",
              " \n",
              "         [[6.4095867e-01, 7.6697862e-01, 3.0138540e-01],\n",
              "          [1.5474892e-01, 1.7183411e-01, 2.7192724e-01],\n",
              "          [3.1211805e-01, 6.1451709e-01, 4.3001354e-01],\n",
              "          ...,\n",
              "          [8.4168065e-01, 5.0247252e-01, 2.8834987e-01],\n",
              "          [3.3173549e-01, 4.5103800e-01, 6.7354202e-02],\n",
              "          [1.0118127e-01, 4.2389810e-01, 6.8379509e-01]],\n",
              " \n",
              "         ...,\n",
              " \n",
              "         [[1.8096626e-01, 8.5838544e-01, 3.4178734e-02],\n",
              "          [5.9386420e-01, 3.8502932e-01, 8.7150073e-01],\n",
              "          [1.0209656e-01, 3.7833798e-01, 1.1331165e-01],\n",
              "          ...,\n",
              "          [8.5692227e-01, 4.2525017e-01, 3.6130440e-01],\n",
              "          [5.2397156e-01, 1.3922489e-01, 2.2725856e-01],\n",
              "          [9.1044855e-01, 9.1889143e-02, 1.5898192e-01]],\n",
              " \n",
              "         [[6.5610647e-02, 1.5236783e-01, 7.9822493e-01],\n",
              "          [3.0753601e-01, 4.3507314e-01, 7.9526460e-01],\n",
              "          [8.3535135e-01, 3.8671303e-01, 4.4709980e-01],\n",
              "          ...,\n",
              "          [6.8944788e-01, 6.5163302e-01, 9.1498744e-01],\n",
              "          [3.2730651e-01, 4.3430209e-01, 8.7547708e-01],\n",
              "          [1.8118513e-01, 6.4113998e-01, 4.3338275e-01]],\n",
              " \n",
              "         [[4.1520441e-01, 1.7824161e-01, 9.2302203e-02],\n",
              "          [4.3809581e-01, 4.6262145e-01, 3.8647270e-01],\n",
              "          [4.6021819e-02, 7.6314330e-02, 3.2944894e-01],\n",
              "          ...,\n",
              "          [3.7793708e-01, 8.7314355e-01, 5.2063870e-01],\n",
              "          [7.3511279e-01, 7.9594767e-01, 8.2211494e-02],\n",
              "          [9.7483528e-01, 8.2736588e-01, 7.6870322e-01]]]], dtype=float32)>)"
            ]
          },
          "metadata": {},
          "execution_count": 35
        }
      ]
    },
    {
      "cell_type": "code",
      "source": [
        "squeezed_tensor = tf.squeeze(random_tensor)\n",
        "get_info(squeezed_tensor), squeezed_tensor"
      ],
      "metadata": {
        "colab": {
          "base_uri": "https://localhost:8080/"
        },
        "id": "qaT2OAE0qJQv",
        "outputId": "25228865-fa8d-425c-9bc7-e4dadf4bdb54"
      },
      "execution_count": 37,
      "outputs": [
        {
          "output_type": "stream",
          "name": "stdout",
          "text": [
            "\n",
            "Datatype:  <dtype: 'float32'> \n",
            "Dimensions (rank):  3 \n",
            "Shape:  (224, 224, 3) \n",
            "Size:  150528 \n",
            "Elements along the first axis:  224 \n",
            "Elements along the last axis:  3 \n",
            "Maximum value:  tf.Tensor(0.9999902, shape=(), dtype=float32) \n",
            "Minimum value:  tf.Tensor(1.0967255e-05, shape=(), dtype=float32)\n"
          ]
        },
        {
          "output_type": "execute_result",
          "data": {
            "text/plain": [
              "(None,\n",
              " <tf.Tensor: shape=(224, 224, 3), dtype=float32, numpy=\n",
              " array([[[7.4023080e-01, 3.3938193e-01, 5.6925058e-01],\n",
              "         [4.4811392e-01, 2.9285502e-01, 4.2600560e-01],\n",
              "         [6.2890387e-01, 6.9106102e-01, 3.0925727e-01],\n",
              "         ...,\n",
              "         [9.1063976e-04, 6.9863999e-01, 1.7180574e-01],\n",
              "         [6.7542684e-01, 8.3492923e-01, 3.9038682e-01],\n",
              "         [2.3664141e-01, 6.2239432e-01, 1.0117912e-01]],\n",
              " \n",
              "        [[9.7064960e-01, 5.4594779e-01, 7.6819682e-01],\n",
              "         [2.6893330e-01, 2.6959443e-01, 2.8982997e-01],\n",
              "         [2.9215467e-01, 1.7108858e-01, 6.5597153e-01],\n",
              "         ...,\n",
              "         [9.5621395e-01, 5.4591870e-01, 5.3843534e-01],\n",
              "         [9.8861516e-01, 1.5786767e-01, 6.1375093e-01],\n",
              "         [7.2668612e-01, 6.1637163e-03, 1.6534305e-01]],\n",
              " \n",
              "        [[6.4095867e-01, 7.6697862e-01, 3.0138540e-01],\n",
              "         [1.5474892e-01, 1.7183411e-01, 2.7192724e-01],\n",
              "         [3.1211805e-01, 6.1451709e-01, 4.3001354e-01],\n",
              "         ...,\n",
              "         [8.4168065e-01, 5.0247252e-01, 2.8834987e-01],\n",
              "         [3.3173549e-01, 4.5103800e-01, 6.7354202e-02],\n",
              "         [1.0118127e-01, 4.2389810e-01, 6.8379509e-01]],\n",
              " \n",
              "        ...,\n",
              " \n",
              "        [[1.8096626e-01, 8.5838544e-01, 3.4178734e-02],\n",
              "         [5.9386420e-01, 3.8502932e-01, 8.7150073e-01],\n",
              "         [1.0209656e-01, 3.7833798e-01, 1.1331165e-01],\n",
              "         ...,\n",
              "         [8.5692227e-01, 4.2525017e-01, 3.6130440e-01],\n",
              "         [5.2397156e-01, 1.3922489e-01, 2.2725856e-01],\n",
              "         [9.1044855e-01, 9.1889143e-02, 1.5898192e-01]],\n",
              " \n",
              "        [[6.5610647e-02, 1.5236783e-01, 7.9822493e-01],\n",
              "         [3.0753601e-01, 4.3507314e-01, 7.9526460e-01],\n",
              "         [8.3535135e-01, 3.8671303e-01, 4.4709980e-01],\n",
              "         ...,\n",
              "         [6.8944788e-01, 6.5163302e-01, 9.1498744e-01],\n",
              "         [3.2730651e-01, 4.3430209e-01, 8.7547708e-01],\n",
              "         [1.8118513e-01, 6.4113998e-01, 4.3338275e-01]],\n",
              " \n",
              "        [[4.1520441e-01, 1.7824161e-01, 9.2302203e-02],\n",
              "         [4.3809581e-01, 4.6262145e-01, 3.8647270e-01],\n",
              "         [4.6021819e-02, 7.6314330e-02, 3.2944894e-01],\n",
              "         ...,\n",
              "         [3.7793708e-01, 8.7314355e-01, 5.2063870e-01],\n",
              "         [7.3511279e-01, 7.9594767e-01, 8.2211494e-02],\n",
              "         [9.7483528e-01, 8.2736588e-01, 7.6870322e-01]]], dtype=float32)>)"
            ]
          },
          "metadata": {},
          "execution_count": 37
        }
      ]
    },
    {
      "cell_type": "markdown",
      "source": [
        "# 9. Create a tensor with shape [10] using your own choice of values, then find the index which has the maximum value."
      ],
      "metadata": {
        "id": "3stBdb7sqbOk"
      }
    },
    {
      "cell_type": "code",
      "source": [
        "tensor = tf.constant([1, 5, 6, 7, 9, 2, 4, 6, 10, -10])\n",
        "get_info(tensor), tensor"
      ],
      "metadata": {
        "colab": {
          "base_uri": "https://localhost:8080/"
        },
        "id": "0GTxDAIVqi31",
        "outputId": "1703814b-706e-4738-d53f-e1e634c1543b"
      },
      "execution_count": 45,
      "outputs": [
        {
          "output_type": "stream",
          "name": "stdout",
          "text": [
            "\n",
            "Datatype:  <dtype: 'int32'> \n",
            "Dimensions (rank):  1 \n",
            "Shape:  (10,) \n",
            "Size:  10 \n",
            "Elements along the first axis:  10 \n",
            "Elements along the last axis:  10 \n",
            "Maximum value:  tf.Tensor(10, shape=(), dtype=int32) \n",
            "Minimum value:  tf.Tensor(-10, shape=(), dtype=int32)\n"
          ]
        },
        {
          "output_type": "execute_result",
          "data": {
            "text/plain": [
              "(None,\n",
              " <tf.Tensor: shape=(10,), dtype=int32, numpy=array([  1,   5,   6,   7,   9,   2,   4,   6,  10, -10], dtype=int32)>)"
            ]
          },
          "metadata": {},
          "execution_count": 45
        }
      ]
    },
    {
      "cell_type": "code",
      "source": [
        "# max value index\n",
        "tf.argmax(tensor).numpy()"
      ],
      "metadata": {
        "colab": {
          "base_uri": "https://localhost:8080/"
        },
        "id": "OQji4OO4rGdd",
        "outputId": "d1f319ac-34ff-4a9e-cfae-49597a7da8d1"
      },
      "execution_count": 47,
      "outputs": [
        {
          "output_type": "execute_result",
          "data": {
            "text/plain": [
              "8"
            ]
          },
          "metadata": {},
          "execution_count": 47
        }
      ]
    },
    {
      "cell_type": "code",
      "source": [
        "# min value index\n",
        "tf.argmin(tensor).numpy()"
      ],
      "metadata": {
        "colab": {
          "base_uri": "https://localhost:8080/"
        },
        "id": "h0zsdjfFrn1t",
        "outputId": "b7d3bdbb-e640-485c-8a42-b1ec2ab58524"
      },
      "execution_count": 48,
      "outputs": [
        {
          "output_type": "execute_result",
          "data": {
            "text/plain": [
              "9"
            ]
          },
          "metadata": {},
          "execution_count": 48
        }
      ]
    },
    {
      "cell_type": "markdown",
      "source": [
        "# 10. One-hot encode the tensor you created in 9."
      ],
      "metadata": {
        "id": "OHccS2EervM6"
      }
    },
    {
      "cell_type": "code",
      "source": [
        "tf.one_hot(tf.cast(tensor, dtype=tf.int32), depth=10)"
      ],
      "metadata": {
        "colab": {
          "base_uri": "https://localhost:8080/"
        },
        "id": "dLJTimfPrzWj",
        "outputId": "4110586a-0df2-4d11-9a6f-e3101998d0ac"
      },
      "execution_count": 49,
      "outputs": [
        {
          "output_type": "execute_result",
          "data": {
            "text/plain": [
              "<tf.Tensor: shape=(10, 10), dtype=float32, numpy=\n",
              "array([[0., 1., 0., 0., 0., 0., 0., 0., 0., 0.],\n",
              "       [0., 0., 0., 0., 0., 1., 0., 0., 0., 0.],\n",
              "       [0., 0., 0., 0., 0., 0., 1., 0., 0., 0.],\n",
              "       [0., 0., 0., 0., 0., 0., 0., 1., 0., 0.],\n",
              "       [0., 0., 0., 0., 0., 0., 0., 0., 0., 1.],\n",
              "       [0., 0., 1., 0., 0., 0., 0., 0., 0., 0.],\n",
              "       [0., 0., 0., 0., 1., 0., 0., 0., 0., 0.],\n",
              "       [0., 0., 0., 0., 0., 0., 1., 0., 0., 0.],\n",
              "       [0., 0., 0., 0., 0., 0., 0., 0., 0., 0.],\n",
              "       [0., 0., 0., 0., 0., 0., 0., 0., 0., 0.]], dtype=float32)>"
            ]
          },
          "metadata": {},
          "execution_count": 49
        }
      ]
    },
    {
      "cell_type": "code",
      "source": [],
      "metadata": {
        "id": "xDqQN9masH5p"
      },
      "execution_count": null,
      "outputs": []
    }
  ]
}